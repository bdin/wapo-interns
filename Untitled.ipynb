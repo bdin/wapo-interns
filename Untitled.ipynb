{
 "cells": [
  {
   "cell_type": "code",
   "execution_count": 1,
   "metadata": {},
   "outputs": [
    {
     "name": "stdout",
     "output_type": "stream",
     "text": [
      "Requirement already satisfied: datadoc==0.1.1 in /usr/local/lib/python2.7/site-packages (from -r requirements.txt (line 1))\r\n",
      "Requirement already satisfied: gdata==2.0.18 in /usr/local/lib/python2.7/site-packages (from -r requirements.txt (line 2))\r\n",
      "Requirement already satisfied: Jinja2==2.7.3 in /usr/local/lib/python2.7/site-packages (from -r requirements.txt (line 3))\r\n",
      "Requirement already satisfied: xmltodict==0.9.1 in /usr/local/lib/python2.7/site-packages (from datadoc==0.1.1->-r requirements.txt (line 1))\r\n",
      "Requirement already satisfied: markupsafe in /usr/local/lib/python2.7/site-packages (from Jinja2==2.7.3->-r requirements.txt (line 3))\r\n"
     ]
    }
   ],
   "source": [
    "!pip install -r requirements.txt"
   ]
  },
  {
   "cell_type": "code",
   "execution_count": 62,
   "metadata": {
    "collapsed": true
   },
   "outputs": [],
   "source": [
    "from datadoc import datadoc as doc\n",
    "import json\n",
    "import jinja2\n",
    "import codecs"
   ]
  },
  {
   "cell_type": "code",
   "execution_count": 115,
   "metadata": {},
   "outputs": [],
   "source": [
    "data = doc.fetchData('13jaGDR-LDk_ehPlb0It_2rJJzRpHu5WFr1BdOjAoydI')\n",
    "with open('js/internbios.js','wb') as f:\n",
    "    f.write('bios = {' + json.dumps(data) + '}')\n",
    "env = jinja2.Environment(\n",
    "    loader = jinja2.FileSystemLoader('scripts/templates')\n",
    ")\n",
    "internList = env.get_template('intern.html').render(data=data)\n",
    "internBios = env.get_template('bios.html').render(data=data)\n",
    "index = env.get_template('template.html')\n",
    "result = index.render(\n",
    "            interns=internList,\n",
    "            bios=internBios\n",
    "        )\n",
    "with codecs.open('index.html','w','utf-8') as file:\n",
    "    file.write(result)"
   ]
  },
  {
   "cell_type": "code",
   "execution_count": null,
   "metadata": {
    "collapsed": true
   },
   "outputs": [],
   "source": []
  },
  {
   "cell_type": "code",
   "execution_count": null,
   "metadata": {
    "collapsed": true
   },
   "outputs": [],
   "source": []
  },
  {
   "cell_type": "code",
   "execution_count": null,
   "metadata": {
    "collapsed": true
   },
   "outputs": [],
   "source": []
  },
  {
   "cell_type": "code",
   "execution_count": 12,
   "metadata": {
    "collapsed": true
   },
   "outputs": [],
   "source": []
  },
  {
   "cell_type": "code",
   "execution_count": null,
   "metadata": {
    "collapsed": true
   },
   "outputs": [],
   "source": []
  },
  {
   "cell_type": "code",
   "execution_count": null,
   "metadata": {
    "collapsed": true
   },
   "outputs": [],
   "source": []
  }
 ],
 "metadata": {
  "kernelspec": {
   "display_name": "Python 2",
   "language": "python",
   "name": "python2"
  },
  "language_info": {
   "codemirror_mode": {
    "name": "ipython",
    "version": 2
   },
   "file_extension": ".py",
   "mimetype": "text/x-python",
   "name": "python",
   "nbconvert_exporter": "python",
   "pygments_lexer": "ipython2",
   "version": "2.7.13"
  }
 },
 "nbformat": 4,
 "nbformat_minor": 2
}
